{
 "cells": [
  {
   "cell_type": "code",
   "execution_count": 14,
   "metadata": {},
   "outputs": [
    {
     "name": "stdout",
     "output_type": "stream",
     "text": [
      "Today's date is:2022-02-11\n"
     ]
    }
   ],
   "source": [
    "from datetime import date\n",
    "print(\"Today's date is:\" + str (date.today()))"
   ]
  },
  {
   "cell_type": "code",
   "execution_count": 37,
   "metadata": {},
   "outputs": [
    {
     "name": "stdout",
     "output_type": "stream",
     "text": [
      "11 Parsec, is 35.877159999999996 Lightyears\n"
     ]
    }
   ],
   "source": [
    "Parsec = 11\n",
    "Lightyears = 3.26156 * Parsec\n",
    "print(str(Parsec) + \" Parsec, is \" + str(Lightyears) + \" Lightyears\")"
   ]
  }
 ],
 "metadata": {
  "interpreter": {
   "hash": "4a1a6e45bcf214e078d6ff312f11e0bbb3820b3d6301ae4a1fe16baf89f7ea57"
  },
  "kernelspec": {
   "display_name": "Python 3.10.2 64-bit",
   "language": "python",
   "name": "python3"
  },
  "language_info": {
   "codemirror_mode": {
    "name": "ipython",
    "version": 3
   },
   "file_extension": ".py",
   "mimetype": "text/x-python",
   "name": "python",
   "nbconvert_exporter": "python",
   "pygments_lexer": "ipython3",
   "version": "3.10.2"
  },
  "orig_nbformat": 4
 },
 "nbformat": 4,
 "nbformat_minor": 2
}
