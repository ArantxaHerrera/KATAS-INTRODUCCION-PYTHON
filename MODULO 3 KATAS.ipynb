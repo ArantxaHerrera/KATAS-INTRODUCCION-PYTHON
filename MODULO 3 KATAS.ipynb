{
 "cells": [
  {
   "cell_type": "markdown",
   "metadata": {},
   "source": [
    "# EJERCICIOS IF, ELSE, Y ELIF\n"
   ]
  },
  {
   "cell_type": "code",
   "execution_count": 22,
   "metadata": {},
   "outputs": [
    {
     "name": "stdout",
     "output_type": "stream",
     "text": [
      "¡Un asteroide se acerca a la Tierra!\n"
     ]
    }
   ],
   "source": [
    "velocidad = 25 \n",
    "asteroide = 49 \n",
    "if velocidad <= asteroide:\n",
    "    print (\"¡Un asteroide se acerca a la Tierra!\")\n",
    "else:\n",
    "    print (\"¡Todo esta bien!\")"
   ]
  },
  {
   "cell_type": "code",
   "execution_count": 36,
   "metadata": {},
   "outputs": [
    {
     "name": "stdout",
     "output_type": "stream",
     "text": [
      "¡Hay un asteroide que se dirige a la tierra ahora a una velocidad de 19 km/s!\n"
     ]
    }
   ],
   "source": [
    "velocidad = 20\n",
    "asteroide = 19\n",
    "advertencia = 19\n",
    "if asteroide >= velocidad:\n",
    "    print (\"¡Un asteroide se acerca a la Tierra!\")\n",
    "elif advertencia == asteroide:\n",
    "    print (\"¡Hay un asteroide que se dirige a la tierra ahora a una velocidad de 19 km/s!\")\n",
    "else: \n",
    "    print (\"¡Todo esta bien!\")\n"
   ]
  },
  {
   "cell_type": "markdown",
   "metadata": {},
   "source": [
    "# EJERCICIOS OPERADORES AND Y OR"
   ]
  },
  {
   "cell_type": "code",
   "execution_count": 74,
   "metadata": {},
   "outputs": [
    {
     "name": "stdout",
     "output_type": "stream",
     "text": [
      "¡Un asteroide esta pasando, ve el rayo de luz en el cielo\n"
     ]
    }
   ],
   "source": [
    "dimension = 25\n",
    "velocidad = 25\n",
    "if dimension > 100 or velocidad > 25:\n",
    "        print (\"¡Peligro, se acerca un asteroide!\")\n",
    "elif velocidad >=20:\n",
    "    print (\"¡Un asteroide esta pasando, ve el rayo de luz en el cielo\")\n",
    "else:\n",
    "    print (\"Todo esta bien\")"
   ]
  },
  {
   "cell_type": "markdown",
   "metadata": {},
   "source": []
  }
 ],
 "metadata": {
  "interpreter": {
   "hash": "4a1a6e45bcf214e078d6ff312f11e0bbb3820b3d6301ae4a1fe16baf89f7ea57"
  },
  "kernelspec": {
   "display_name": "Python 3.10.2 64-bit",
   "language": "python",
   "name": "python3"
  },
  "language_info": {
   "codemirror_mode": {
    "name": "ipython",
    "version": 3
   },
   "file_extension": ".py",
   "mimetype": "text/x-python",
   "name": "python",
   "nbconvert_exporter": "python",
   "pygments_lexer": "ipython3",
   "version": "3.10.2"
  },
  "orig_nbformat": 4
 },
 "nbformat": 4,
 "nbformat_minor": 2
}
