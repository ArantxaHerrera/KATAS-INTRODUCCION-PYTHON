{
 "cells": [
  {
   "cell_type": "markdown",
   "metadata": {},
   "source": [
    "# EJERCICIO 1"
   ]
  },
  {
   "cell_type": "code",
   "execution_count": 60,
   "metadata": {},
   "outputs": [],
   "source": [
    "Planetas = [\"Tierra\", \"Saturno\", \"Júpiter\", \"Merurio\", \"Marte\", \"Urano\", \"Venus\", \"Neptuno\"]"
   ]
  },
  {
   "cell_type": "code",
   "execution_count": 52,
   "metadata": {},
   "outputs": [
    {
     "name": "stdout",
     "output_type": "stream",
     "text": [
      "El número de planetas en el sistema solar es 8\n"
     ]
    }
   ],
   "source": [
    "Número_de_Planetas = len(\"Planetas\")\n",
    "print('El número de planetas en el sistema solar es', Número_de_Planetas)"
   ]
  },
  {
   "cell_type": "code",
   "execution_count": 70,
   "metadata": {},
   "outputs": [
    {
     "name": "stdout",
     "output_type": "stream",
     "text": [
      "Plutón es el último planeta\n"
     ]
    }
   ],
   "source": [
    "Planetas.append(\"Plutón\")\n",
    "print(Planetas[-1], \"es el último planeta\")"
   ]
  },
  {
   "cell_type": "markdown",
   "metadata": {},
   "source": [
    "# EJERCICIO 2"
   ]
  },
  {
   "cell_type": "code",
   "execution_count": 163,
   "metadata": {},
   "outputs": [],
   "source": [
    "Planetas = [\"Mercurio\", \"Venus\", \"Tierra\", \"Marte\", \"Júpiter\", \"Saturno\", \"Neptuno\"]"
   ]
  },
  {
   "cell_type": "code",
   "execution_count": 167,
   "metadata": {},
   "outputs": [],
   "source": [
    "Nombre_Planeta = input('Marte')"
   ]
  },
  {
   "cell_type": "code",
   "execution_count": 168,
   "metadata": {},
   "outputs": [],
   "source": [
    "Planetas_index= Planetas.index('Marte')"
   ]
  },
  {
   "cell_type": "code",
   "execution_count": 169,
   "metadata": {},
   "outputs": [
    {
     "name": "stdout",
     "output_type": "stream",
     "text": [
      "Los planetas más cercanos al sol son\n",
      "['Mercurio', 'Venus', 'Tierra']\n"
     ]
    }
   ],
   "source": [
    "print(\"Los planetas más cercanos al sol son\" + Nombre_Planeta)\n",
    "print(Planetas[0:Planetas_index])"
   ]
  },
  {
   "cell_type": "code",
   "execution_count": 172,
   "metadata": {},
   "outputs": [
    {
     "name": "stdout",
     "output_type": "stream",
     "text": [
      "Los planetas más alejados del sol son\n",
      "['Júpiter', 'Saturno', 'Neptuno']\n"
     ]
    }
   ],
   "source": [
    "print(\"Los planetas más alejados del sol son\" + Nombre_Planeta)\n",
    "print(Planetas[Planetas_index + 1:])"
   ]
  }
 ],
 "metadata": {
  "interpreter": {
   "hash": "4a1a6e45bcf214e078d6ff312f11e0bbb3820b3d6301ae4a1fe16baf89f7ea57"
  },
  "kernelspec": {
   "display_name": "Python 3.10.2 64-bit",
   "language": "python",
   "name": "python3"
  },
  "language_info": {
   "codemirror_mode": {
    "name": "ipython",
    "version": 3
   },
   "file_extension": ".py",
   "mimetype": "text/x-python",
   "name": "python",
   "nbconvert_exporter": "python",
   "pygments_lexer": "ipython3",
   "version": "3.10.2"
  },
  "orig_nbformat": 4
 },
 "nbformat": 4,
 "nbformat_minor": 2
}
