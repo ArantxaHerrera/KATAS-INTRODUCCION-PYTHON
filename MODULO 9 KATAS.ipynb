{
 "cells": [
  {
   "cell_type": "markdown",
   "metadata": {},
   "source": [
    "# EJERCICIO 1"
   ]
  },
  {
   "cell_type": "code",
   "execution_count": 12,
   "metadata": {},
   "outputs": [
    {
     "name": "stdout",
     "output_type": "stream",
     "text": [
      "Reporte Total:\n",
      "    Promedio Total: 86.66666666666667%\n",
      "    Tanque de Agua: 100%\n",
      "    Tanque de Gas: 76%\n",
      "    Tanque de Gasolina: 84%\n",
      "    \n"
     ]
    }
   ],
   "source": [
    "def Tanques_Combustible(Agua, Gas, Gasolina):\n",
    "    Promedio_Total = (Agua + Gas + Gasolina) / 3\n",
    "    return f\"\"\"Reporte Total:\n",
    "    Promedio Total: {Promedio_Total}%\n",
    "    Tanque de Agua: {Agua}%\n",
    "    Tanque de Gas: {Gas}%\n",
    "    Tanque de Gasolina: {Gasolina}%\n",
    "    \"\"\"\n",
    "\n",
    "print(Tanques_Combustible(100, 76, 84))"
   ]
  },
  {
   "cell_type": "code",
   "execution_count": 35,
   "metadata": {},
   "outputs": [
    {
     "data": {
      "text/plain": [
       "71.33333333333333"
      ]
     },
     "execution_count": 35,
     "metadata": {},
     "output_type": "execute_result"
    }
   ],
   "source": [
    "def Promedio(valores):\n",
    "    Total =sum(valores)\n",
    "    Número_de_Elementos = len(valores)\n",
    "    return Total / Número_de_Elementos\n",
    "\n",
    "Promedio([102, 67, 45])"
   ]
  },
  {
   "cell_type": "code",
   "execution_count": 47,
   "metadata": {},
   "outputs": [
    {
     "name": "stdout",
     "output_type": "stream",
     "text": [
      "Reporte Total:\n",
      "    Promedio Total: 114.33333333333333%\n",
      "    Tanque de Agua: 98%\n",
      "    Tanque de Gas: 69%\n",
      "    Tanque de Gasolina: 176%\n",
      "    \n"
     ]
    }
   ],
   "source": [
    "def Tanques_Combustible(Agua, Gas, Gasolina):\n",
    "    return f\"\"\"Reporte Total:\n",
    "    Promedio Total: {Promedio([Agua, Gas, Gasolina])}%\n",
    "    Tanque de Agua: {Agua}%\n",
    "    Tanque de Gas: {Gas}%\n",
    "    Tanque de Gasolina: {Gasolina}%\n",
    "    \"\"\"\n",
    "\n",
    "print(Tanques_Combustible(98, 69, 176))"
   ]
  },
  {
   "cell_type": "markdown",
   "metadata": {},
   "source": [
    "# EJERCICIO 2"
   ]
  },
  {
   "cell_type": "code",
   "execution_count": 48,
   "metadata": {},
   "outputs": [
    {
     "name": "stdout",
     "output_type": "stream",
     "text": [
      "\n",
      "    Misión a Marte\n",
      "    Tiempo_Total_Viaje: 190 minutos\n",
      "    Tanque de Gas: 99333346 litros\n",
      "    \n"
     ]
    }
   ],
   "source": [
    "def Reporte_Misión(Destino, Preparación, Tiempo_Destino, Combustible, Tanque):\n",
    "    return f\"\"\"\n",
    "    Misión a {Destino}\n",
    "    Tiempo_Total_Viaje: {Preparación + Tiempo_Destino} minutos\n",
    "    Tanque de Gas: {Combustible + Tanque} litros\n",
    "    \"\"\"\n",
    "\n",
    "print(Reporte_Misión(\"Marte\", 60, 130, 567890, 98765456))"
   ]
  },
  {
   "cell_type": "code",
   "execution_count": 49,
   "metadata": {},
   "outputs": [
    {
     "name": "stdout",
     "output_type": "stream",
     "text": [
      "\n",
      "    Misión a Marte\n",
      "    Tiempo_Total_Viaje: 235 minutos\n",
      "    Tanque de Gas: 99333346\n",
      "    \n"
     ]
    }
   ],
   "source": [
    "def Reporte_Misión(Destino, *minutos, **total_gasolina):\n",
    "    return f\"\"\"\n",
    "    Misión a {Destino}\n",
    "    Tiempo_Total_Viaje: {sum(minutos)} minutos\n",
    "    Tanque de Gas: {sum(total_gasolina.values())}\n",
    "    \"\"\"\n",
    "\n",
    "print(Reporte_Misión(\"Marte\", 60, 45, 130, Tanque=98765456, Combustible=567890))"
   ]
  },
  {
   "cell_type": "code",
   "execution_count": 53,
   "metadata": {},
   "outputs": [
    {
     "name": "stdout",
     "output_type": "stream",
     "text": [
      "\n",
      "    Misión a Marte\n",
      "    Tiempo_Total_Viaje: 154 minutos\n",
      "    Tanque de Gas: 99333346\n",
      "    Tanque Deposito--> 98765456 Litros Utilizados\n",
      "Combustible Deposito--> 567890 Litros Utilizados\n",
      "\n"
     ]
    }
   ],
   "source": [
    "def Reporte_Misión(Destino, *minutos, **total_gasolina):\n",
    "    Reporte = f\"\"\"\n",
    "    Misión a {Destino}\n",
    "    Tiempo_Total_Viaje: {sum(minutos)} minutos\n",
    "    Tanque de Gas: {sum(total_gasolina.values())}\n",
    "    \"\"\"\n",
    "    \n",
    "    for Nombre_Tanque, Litros in total_gasolina.items():\n",
    "        Reporte += f\"{Nombre_Tanque} Deposito--> {Litros} Litros Utilizados\\n\"\n",
    "    return Reporte\n",
    "\n",
    "print(Reporte_Misión(\"Marte\", 34, 22, 98, Tanque=98765456, Combustible=567890))"
   ]
  }
 ],
 "metadata": {
  "interpreter": {
   "hash": "4a1a6e45bcf214e078d6ff312f11e0bbb3820b3d6301ae4a1fe16baf89f7ea57"
  },
  "kernelspec": {
   "display_name": "Python 3.10.2 64-bit",
   "language": "python",
   "name": "python3"
  },
  "language_info": {
   "codemirror_mode": {
    "name": "ipython",
    "version": 3
   },
   "file_extension": ".py",
   "mimetype": "text/x-python",
   "name": "python",
   "nbconvert_exporter": "python",
   "pygments_lexer": "ipython3",
   "version": "3.10.2"
  },
  "orig_nbformat": 4
 },
 "nbformat": 4,
 "nbformat_minor": 2
}
